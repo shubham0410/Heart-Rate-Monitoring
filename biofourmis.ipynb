{
 "cells": [
  {
   "cell_type": "markdown",
   "metadata": {},
   "source": [
    "# HEALTH MONITORING SIMULATOR"
   ]
  },
  {
   "cell_type": "code",
   "execution_count": 1,
   "metadata": {
    "collapsed": true
   },
   "outputs": [],
   "source": [
    "import pandas as pd"
   ]
  },
  {
   "cell_type": "code",
   "execution_count": 2,
   "metadata": {
    "collapsed": true
   },
   "outputs": [],
   "source": [
    "import time"
   ]
  },
  {
   "cell_type": "markdown",
   "metadata": {},
   "source": [
    "# Randomly generating data for 2000 epochs"
   ]
  },
  {
   "cell_type": "code",
   "execution_count": 12,
   "metadata": {},
   "outputs": [
    {
     "name": "stdout",
     "output_type": "stream",
     "text": [
      "1596620183.864486\n",
      "{'respiration_rate': 17, 'userId': 'abc', 'timestamp': 1596620183.865521, 'heart_rate': 65, 'activity': 95}\n",
      "{'respiration_rate': 92, 'userId': 'abc', 'timestamp': 1596620184.879905, 'heart_rate': 65, 'activity': 29}\n",
      "{'respiration_rate': 79, 'userId': 'abc', 'timestamp': 1596620185.893503, 'heart_rate': 52, 'activity': 72}\n",
      "{'respiration_rate': 55, 'userId': 'abc', 'timestamp': 1596620186.898791, 'heart_rate': 148, 'activity': 89}\n",
      "{'respiration_rate': 33, 'userId': 'abc', 'timestamp': 1596620187.911644, 'heart_rate': 38, 'activity': 39}\n",
      "{'respiration_rate': 75, 'userId': 'abc', 'timestamp': 1596620188.92512, 'heart_rate': 115, 'activity': 89}\n",
      "{'respiration_rate': 39, 'userId': 'abc', 'timestamp': 1596620189.938712, 'heart_rate': 113, 'activity': 45}\n",
      "{'respiration_rate': 99, 'userId': 'abc', 'timestamp': 1596620190.947015, 'heart_rate': 51, 'activity': 7}\n",
      "{'respiration_rate': 47, 'userId': 'abc', 'timestamp': 1596620191.961074, 'heart_rate': 107, 'activity': 62}\n",
      "{'respiration_rate': 54, 'userId': 'abc', 'timestamp': 1596620192.975878, 'heart_rate': 20, 'activity': 30}\n"
     ]
    }
   ],
   "source": [
    "import random\n",
    "import time\n",
    "import json\n",
    "\n",
    "start = time.time()\n",
    "print(start)\n",
    "with open('result1.json', 'w') as fp:\n",
    "    json.dump([], fp)\n",
    "while start + 10 > time.time():\n",
    "    h_rate = random.randint(10,160)\n",
    "    r_rate = random.randint(0,100)\n",
    "    activity = random.randint(0,100)\n",
    "    data=dict()\n",
    "    data[\"userId\"]=\"abc\"\n",
    "    data[\"timestamp\"]=time.time()\n",
    "    data[\"heart_rate\"]=h_rate\n",
    "    data[\"respiration_rate\"]=r_rate\n",
    "    data[\"activity\"]=activity\n",
    "    print(data)\n",
    "    with open('result1.json', 'r') as fp:\n",
    "        feeds = json.load(fp)\n",
    "    with open('result1.json', 'w') as fp:\n",
    "        feeds.append(data)\n",
    "        json.dump(feeds, fp)\n",
    "    time.sleep(1)"
   ]
  },
  {
   "cell_type": "code",
   "execution_count": 13,
   "metadata": {
    "collapsed": true
   },
   "outputs": [],
   "source": [
    "df = pd.read_json('result1.json')"
   ]
  },
  {
   "cell_type": "code",
   "execution_count": 15,
   "metadata": {},
   "outputs": [
    {
     "data": {
      "text/html": [
       "<div>\n",
       "<style>\n",
       "    .dataframe thead tr:only-child th {\n",
       "        text-align: right;\n",
       "    }\n",
       "\n",
       "    .dataframe thead th {\n",
       "        text-align: left;\n",
       "    }\n",
       "\n",
       "    .dataframe tbody tr th {\n",
       "        vertical-align: top;\n",
       "    }\n",
       "</style>\n",
       "<table border=\"1\" class=\"dataframe\">\n",
       "  <thead>\n",
       "    <tr style=\"text-align: right;\">\n",
       "      <th></th>\n",
       "      <th>activity</th>\n",
       "      <th>heart_rate</th>\n",
       "      <th>respiration_rate</th>\n",
       "      <th>timestamp</th>\n",
       "      <th>userId</th>\n",
       "    </tr>\n",
       "  </thead>\n",
       "  <tbody>\n",
       "    <tr>\n",
       "      <th>0</th>\n",
       "      <td>95</td>\n",
       "      <td>65</td>\n",
       "      <td>17</td>\n",
       "      <td>2020-08-05 09:36:23.865521</td>\n",
       "      <td>abc</td>\n",
       "    </tr>\n",
       "    <tr>\n",
       "      <th>1</th>\n",
       "      <td>29</td>\n",
       "      <td>65</td>\n",
       "      <td>92</td>\n",
       "      <td>2020-08-05 09:36:24.879905</td>\n",
       "      <td>abc</td>\n",
       "    </tr>\n",
       "    <tr>\n",
       "      <th>2</th>\n",
       "      <td>72</td>\n",
       "      <td>52</td>\n",
       "      <td>79</td>\n",
       "      <td>2020-08-05 09:36:25.893503</td>\n",
       "      <td>abc</td>\n",
       "    </tr>\n",
       "    <tr>\n",
       "      <th>3</th>\n",
       "      <td>89</td>\n",
       "      <td>148</td>\n",
       "      <td>55</td>\n",
       "      <td>2020-08-05 09:36:26.898791</td>\n",
       "      <td>abc</td>\n",
       "    </tr>\n",
       "    <tr>\n",
       "      <th>4</th>\n",
       "      <td>39</td>\n",
       "      <td>38</td>\n",
       "      <td>33</td>\n",
       "      <td>2020-08-05 09:36:27.911644</td>\n",
       "      <td>abc</td>\n",
       "    </tr>\n",
       "    <tr>\n",
       "      <th>5</th>\n",
       "      <td>89</td>\n",
       "      <td>115</td>\n",
       "      <td>75</td>\n",
       "      <td>2020-08-05 09:36:28.925120</td>\n",
       "      <td>abc</td>\n",
       "    </tr>\n",
       "    <tr>\n",
       "      <th>6</th>\n",
       "      <td>45</td>\n",
       "      <td>113</td>\n",
       "      <td>39</td>\n",
       "      <td>2020-08-05 09:36:29.938712</td>\n",
       "      <td>abc</td>\n",
       "    </tr>\n",
       "    <tr>\n",
       "      <th>7</th>\n",
       "      <td>7</td>\n",
       "      <td>51</td>\n",
       "      <td>99</td>\n",
       "      <td>2020-08-05 09:36:30.947015</td>\n",
       "      <td>abc</td>\n",
       "    </tr>\n",
       "    <tr>\n",
       "      <th>8</th>\n",
       "      <td>62</td>\n",
       "      <td>107</td>\n",
       "      <td>47</td>\n",
       "      <td>2020-08-05 09:36:31.961074</td>\n",
       "      <td>abc</td>\n",
       "    </tr>\n",
       "    <tr>\n",
       "      <th>9</th>\n",
       "      <td>30</td>\n",
       "      <td>20</td>\n",
       "      <td>54</td>\n",
       "      <td>2020-08-05 09:36:32.975878</td>\n",
       "      <td>abc</td>\n",
       "    </tr>\n",
       "  </tbody>\n",
       "</table>\n",
       "</div>"
      ],
      "text/plain": [
       "   activity  heart_rate  respiration_rate                  timestamp userId\n",
       "0        95          65                17 2020-08-05 09:36:23.865521    abc\n",
       "1        29          65                92 2020-08-05 09:36:24.879905    abc\n",
       "2        72          52                79 2020-08-05 09:36:25.893503    abc\n",
       "3        89         148                55 2020-08-05 09:36:26.898791    abc\n",
       "4        39          38                33 2020-08-05 09:36:27.911644    abc\n",
       "5        89         115                75 2020-08-05 09:36:28.925120    abc\n",
       "6        45         113                39 2020-08-05 09:36:29.938712    abc\n",
       "7         7          51                99 2020-08-05 09:36:30.947015    abc\n",
       "8        62         107                47 2020-08-05 09:36:31.961074    abc\n",
       "9        30          20                54 2020-08-05 09:36:32.975878    abc"
      ]
     },
     "execution_count": 15,
     "metadata": {},
     "output_type": "execute_result"
    }
   ],
   "source": [
    "df"
   ]
  },
  {
   "cell_type": "code",
   "execution_count": 16,
   "metadata": {},
   "outputs": [
    {
     "name": "stdout",
     "output_type": "stream",
     "text": [
      "774\n"
     ]
    }
   ],
   "source": [
    "print(sum(df['heart_rate']))\n"
   ]
  },
  {
   "cell_type": "markdown",
   "metadata": {},
   "source": [
    "## Changing timestamp format from nanosec to sec"
   ]
  },
  {
   "cell_type": "code",
   "execution_count": 17,
   "metadata": {
    "collapsed": true
   },
   "outputs": [],
   "source": [
    "df['timestamp']=df.timestamp.values.astype('datetime64[s]')"
   ]
  },
  {
   "cell_type": "code",
   "execution_count": 18,
   "metadata": {
    "collapsed": true
   },
   "outputs": [],
   "source": [
    "from datetime import timedelta"
   ]
  },
  {
   "cell_type": "code",
   "execution_count": 19,
   "metadata": {},
   "outputs": [
    {
     "name": "stdout",
     "output_type": "stream",
     "text": [
      "2020-08-05 09:21:23\n",
      "2020-08-05 09:21:24\n",
      "2020-08-05 09:21:25\n",
      "2020-08-05 09:21:26\n",
      "2020-08-05 09:21:27\n",
      "2020-08-05 09:21:28\n",
      "2020-08-05 09:21:29\n",
      "2020-08-05 09:21:30\n",
      "2020-08-05 09:21:31\n",
      "2020-08-05 09:21:32\n"
     ]
    }
   ],
   "source": [
    "for ind in df.index: \n",
    "     print(df['timestamp'][ind]-timedelta(seconds=900))"
   ]
  },
  {
   "cell_type": "markdown",
   "metadata": {},
   "source": [
    "# Creating another dataframe containing Timestamp(every 15min), total heart rate, minimum, maximum, average heart rate during every interval of 15 minutes"
   ]
  },
  {
   "cell_type": "code",
   "execution_count": 34,
   "metadata": {
    "collapsed": true
   },
   "outputs": [],
   "source": [
    "dfObj = pd.DataFrame(columns=['timestamp','Total_Sum','MIN','MAX','AVG','COUNT'])"
   ]
  },
  {
   "cell_type": "code",
   "execution_count": 35,
   "metadata": {},
   "outputs": [
    {
     "data": {
      "text/html": [
       "<div>\n",
       "<style>\n",
       "    .dataframe thead tr:only-child th {\n",
       "        text-align: right;\n",
       "    }\n",
       "\n",
       "    .dataframe thead th {\n",
       "        text-align: left;\n",
       "    }\n",
       "\n",
       "    .dataframe tbody tr th {\n",
       "        vertical-align: top;\n",
       "    }\n",
       "</style>\n",
       "<table border=\"1\" class=\"dataframe\">\n",
       "  <thead>\n",
       "    <tr style=\"text-align: right;\">\n",
       "      <th></th>\n",
       "      <th>timestamp</th>\n",
       "      <th>Total_Sum</th>\n",
       "      <th>MIN</th>\n",
       "      <th>MAX</th>\n",
       "      <th>AVG</th>\n",
       "      <th>COUNT</th>\n",
       "    </tr>\n",
       "  </thead>\n",
       "  <tbody>\n",
       "  </tbody>\n",
       "</table>\n",
       "</div>"
      ],
      "text/plain": [
       "Empty DataFrame\n",
       "Columns: [timestamp, Total_Sum, MIN, MAX, AVG, COUNT]\n",
       "Index: []"
      ]
     },
     "execution_count": 35,
     "metadata": {},
     "output_type": "execute_result"
    }
   ],
   "source": [
    "dfObj.head()"
   ]
  },
  {
   "cell_type": "markdown",
   "metadata": {},
   "source": [
    "## Initial Start and End time of 15 minutes (900 seconds)"
   ]
  },
  {
   "cell_type": "code",
   "execution_count": 36,
   "metadata": {},
   "outputs": [
    {
     "name": "stdout",
     "output_type": "stream",
     "text": [
      "2020-08-05 09:36:23\n",
      "2020-08-05 09:36:26\n"
     ]
    }
   ],
   "source": [
    "start_obj = df['timestamp'][0]\n",
    "print(start_obj)\n",
    "end_obj=start_obj+timedelta(seconds=3)\n",
    "print(end_obj)"
   ]
  },
  {
   "cell_type": "markdown",
   "metadata": {},
   "source": [
    "# Calculation of min, max and average heart_rate"
   ]
  },
  {
   "cell_type": "code",
   "execution_count": 37,
   "metadata": {},
   "outputs": [
    {
     "name": "stdout",
     "output_type": "stream",
     "text": [
      "2020-08-05 09:36:23\n",
      "2020-08-05 09:36:24\n",
      "2020-08-05 09:36:25\n"
     ]
    },
    {
     "name": "stderr",
     "output_type": "stream",
     "text": [
      "/Users/apple/anaconda3/envs/python3/lib/python3.5/site-packages/ipykernel/__main__.py:14: SettingWithCopyWarning: \n",
      "A value is trying to be set on a copy of a slice from a DataFrame\n",
      "\n",
      "See the caveats in the documentation: http://pandas.pydata.org/pandas-docs/stable/indexing.html#indexing-view-versus-copy\n",
      "/Users/apple/anaconda3/envs/python3/lib/python3.5/site-packages/ipykernel/__main__.py:20: SettingWithCopyWarning: \n",
      "A value is trying to be set on a copy of a slice from a DataFrame\n",
      "\n",
      "See the caveats in the documentation: http://pandas.pydata.org/pandas-docs/stable/indexing.html#indexing-view-versus-copy\n",
      "/Users/apple/anaconda3/envs/python3/lib/python3.5/site-packages/ipykernel/__main__.py:21: SettingWithCopyWarning: \n",
      "A value is trying to be set on a copy of a slice from a DataFrame\n",
      "\n",
      "See the caveats in the documentation: http://pandas.pydata.org/pandas-docs/stable/indexing.html#indexing-view-versus-copy\n"
     ]
    },
    {
     "name": "stdout",
     "output_type": "stream",
     "text": [
      "2020-08-05 09:36:26\n",
      "2020-08-05 09:36:27\n",
      "2020-08-05 09:36:28\n",
      "2020-08-05 09:36:29\n",
      "2020-08-05 09:36:30\n",
      "2020-08-05 09:36:31\n",
      "2020-08-05 09:36:32\n"
     ]
    },
    {
     "name": "stderr",
     "output_type": "stream",
     "text": [
      "/Users/apple/anaconda3/envs/python3/lib/python3.5/site-packages/ipykernel/__main__.py:16: SettingWithCopyWarning: \n",
      "A value is trying to be set on a copy of a slice from a DataFrame\n",
      "\n",
      "See the caveats in the documentation: http://pandas.pydata.org/pandas-docs/stable/indexing.html#indexing-view-versus-copy\n"
     ]
    }
   ],
   "source": [
    "avg_sum=0\n",
    "\n",
    "for ind in df.index: \n",
    "    val=df['timestamp'][ind]\n",
    "    heart_rate=df['heart_rate'][ind]\n",
    "    if val==end_obj:\n",
    "        start_obj=end_obj\n",
    "        end_obj=start_obj+timedelta(seconds=3)\n",
    "    if df.timestamp[df.timestamp == val].count() and val>=start_obj and val<end_obj:\n",
    "        print(val)\n",
    "        if dfObj.timestamp[dfObj.timestamp == end_obj].count():\n",
    "            for index in dfObj.index:\n",
    "                if dfObj['timestamp'][index] == end_obj:\n",
    "                    dfObj['Total_Sum'][index] = dfObj['Total_Sum'][index] + heart_rate\n",
    "                    if heart_rate<dfObj['MIN'][index]:\n",
    "                        dfObj['MIN'][index]=heart_rate\n",
    "                    if heart_rate>dfObj['MAX'][index]:\n",
    "                        dfObj['MAX'][index]=heart_rate\n",
    "                    avg_sum=dfObj['Total_Sum'][index]/dfObj['COUNT'][index]\n",
    "                    dfObj['AVG'][index]=avg_sum\n",
    "                    dfObj['COUNT'][index]=dfObj['COUNT'][index]+1\n",
    "        else:\n",
    "            tempdf = pd.DataFrame({'timestamp':end_obj, 'Total_Sum':heart_rate,\n",
    "                                   'MIN':heart_rate, 'MAX': heart_rate, 'AVG': heart_rate,'COUNT': [1]})\n",
    "            dfObj = dfObj.append(tempdf, ignore_index=True)\n"
   ]
  },
  {
   "cell_type": "code",
   "execution_count": 38,
   "metadata": {},
   "outputs": [
    {
     "data": {
      "text/html": [
       "<div>\n",
       "<style>\n",
       "    .dataframe thead tr:only-child th {\n",
       "        text-align: right;\n",
       "    }\n",
       "\n",
       "    .dataframe thead th {\n",
       "        text-align: left;\n",
       "    }\n",
       "\n",
       "    .dataframe tbody tr th {\n",
       "        vertical-align: top;\n",
       "    }\n",
       "</style>\n",
       "<table border=\"1\" class=\"dataframe\">\n",
       "  <thead>\n",
       "    <tr style=\"text-align: right;\">\n",
       "      <th></th>\n",
       "      <th>AVG</th>\n",
       "      <th>COUNT</th>\n",
       "      <th>MAX</th>\n",
       "      <th>MIN</th>\n",
       "      <th>Total_Sum</th>\n",
       "      <th>timestamp</th>\n",
       "    </tr>\n",
       "  </thead>\n",
       "  <tbody>\n",
       "    <tr>\n",
       "      <th>0</th>\n",
       "      <td>91</td>\n",
       "      <td>3</td>\n",
       "      <td>65</td>\n",
       "      <td>52</td>\n",
       "      <td>182</td>\n",
       "      <td>2020-08-05 09:36:26</td>\n",
       "    </tr>\n",
       "    <tr>\n",
       "      <th>1</th>\n",
       "      <td>150.5</td>\n",
       "      <td>3</td>\n",
       "      <td>148</td>\n",
       "      <td>38</td>\n",
       "      <td>301</td>\n",
       "      <td>2020-08-05 09:36:29</td>\n",
       "    </tr>\n",
       "    <tr>\n",
       "      <th>2</th>\n",
       "      <td>135.5</td>\n",
       "      <td>3</td>\n",
       "      <td>113</td>\n",
       "      <td>51</td>\n",
       "      <td>271</td>\n",
       "      <td>2020-08-05 09:36:32</td>\n",
       "    </tr>\n",
       "    <tr>\n",
       "      <th>3</th>\n",
       "      <td>20</td>\n",
       "      <td>1</td>\n",
       "      <td>20</td>\n",
       "      <td>20</td>\n",
       "      <td>20</td>\n",
       "      <td>2020-08-05 09:36:35</td>\n",
       "    </tr>\n",
       "  </tbody>\n",
       "</table>\n",
       "</div>"
      ],
      "text/plain": [
       "     AVG COUNT  MAX MIN Total_Sum           timestamp\n",
       "0     91     3   65  52       182 2020-08-05 09:36:26\n",
       "1  150.5     3  148  38       301 2020-08-05 09:36:29\n",
       "2  135.5     3  113  51       271 2020-08-05 09:36:32\n",
       "3     20     1   20  20        20 2020-08-05 09:36:35"
      ]
     },
     "execution_count": 38,
     "metadata": {},
     "output_type": "execute_result"
    }
   ],
   "source": [
    "dfObj"
   ]
  },
  {
   "cell_type": "code",
   "execution_count": 39,
   "metadata": {},
   "outputs": [
    {
     "data": {
      "text/plain": [
       "Timestamp('2020-08-05 09:36:32')"
      ]
     },
     "execution_count": 39,
     "metadata": {},
     "output_type": "execute_result"
    }
   ],
   "source": [
    "start_obj"
   ]
  },
  {
   "cell_type": "code",
   "execution_count": 40,
   "metadata": {
    "collapsed": true
   },
   "outputs": [],
   "source": [
    "import numpy as np"
   ]
  },
  {
   "cell_type": "code",
   "execution_count": 41,
   "metadata": {
    "collapsed": true
   },
   "outputs": [],
   "source": [
    "if val!=end_obj:\n",
    "    dfObj=dfObj[:-1]"
   ]
  },
  {
   "cell_type": "code",
   "execution_count": 42,
   "metadata": {},
   "outputs": [
    {
     "data": {
      "text/html": [
       "<div>\n",
       "<style>\n",
       "    .dataframe thead tr:only-child th {\n",
       "        text-align: right;\n",
       "    }\n",
       "\n",
       "    .dataframe thead th {\n",
       "        text-align: left;\n",
       "    }\n",
       "\n",
       "    .dataframe tbody tr th {\n",
       "        vertical-align: top;\n",
       "    }\n",
       "</style>\n",
       "<table border=\"1\" class=\"dataframe\">\n",
       "  <thead>\n",
       "    <tr style=\"text-align: right;\">\n",
       "      <th></th>\n",
       "      <th>AVG</th>\n",
       "      <th>COUNT</th>\n",
       "      <th>MAX</th>\n",
       "      <th>MIN</th>\n",
       "      <th>Total_Sum</th>\n",
       "      <th>timestamp</th>\n",
       "    </tr>\n",
       "  </thead>\n",
       "  <tbody>\n",
       "    <tr>\n",
       "      <th>0</th>\n",
       "      <td>91</td>\n",
       "      <td>3</td>\n",
       "      <td>65</td>\n",
       "      <td>52</td>\n",
       "      <td>182</td>\n",
       "      <td>2020-08-05 09:36:26</td>\n",
       "    </tr>\n",
       "    <tr>\n",
       "      <th>1</th>\n",
       "      <td>150.5</td>\n",
       "      <td>3</td>\n",
       "      <td>148</td>\n",
       "      <td>38</td>\n",
       "      <td>301</td>\n",
       "      <td>2020-08-05 09:36:29</td>\n",
       "    </tr>\n",
       "    <tr>\n",
       "      <th>2</th>\n",
       "      <td>135.5</td>\n",
       "      <td>3</td>\n",
       "      <td>113</td>\n",
       "      <td>51</td>\n",
       "      <td>271</td>\n",
       "      <td>2020-08-05 09:36:32</td>\n",
       "    </tr>\n",
       "  </tbody>\n",
       "</table>\n",
       "</div>"
      ],
      "text/plain": [
       "     AVG COUNT  MAX MIN Total_Sum           timestamp\n",
       "0     91     3   65  52       182 2020-08-05 09:36:26\n",
       "1  150.5     3  148  38       301 2020-08-05 09:36:29\n",
       "2  135.5     3  113  51       271 2020-08-05 09:36:32"
      ]
     },
     "execution_count": 42,
     "metadata": {},
     "output_type": "execute_result"
    }
   ],
   "source": [
    "dfObj"
   ]
  },
  {
   "cell_type": "markdown",
   "metadata": {},
   "source": [
    "# Writing the calculations along with the timestamp to csv"
   ]
  },
  {
   "cell_type": "code",
   "execution_count": 43,
   "metadata": {
    "collapsed": true
   },
   "outputs": [],
   "source": [
    "dfObj.to_csv('tracker_res.csv',columns=['timestamp', 'MIN', 'MAX', 'AVG'],index=False)"
   ]
  },
  {
   "cell_type": "code",
   "execution_count": 44,
   "metadata": {
    "collapsed": true
   },
   "outputs": [],
   "source": [
    "csv_file=pd.read_csv('tracker_res.csv')"
   ]
  },
  {
   "cell_type": "code",
   "execution_count": 45,
   "metadata": {},
   "outputs": [
    {
     "data": {
      "text/html": [
       "<div>\n",
       "<style>\n",
       "    .dataframe thead tr:only-child th {\n",
       "        text-align: right;\n",
       "    }\n",
       "\n",
       "    .dataframe thead th {\n",
       "        text-align: left;\n",
       "    }\n",
       "\n",
       "    .dataframe tbody tr th {\n",
       "        vertical-align: top;\n",
       "    }\n",
       "</style>\n",
       "<table border=\"1\" class=\"dataframe\">\n",
       "  <thead>\n",
       "    <tr style=\"text-align: right;\">\n",
       "      <th></th>\n",
       "      <th>timestamp</th>\n",
       "      <th>MIN</th>\n",
       "      <th>MAX</th>\n",
       "      <th>AVG</th>\n",
       "    </tr>\n",
       "  </thead>\n",
       "  <tbody>\n",
       "    <tr>\n",
       "      <th>0</th>\n",
       "      <td>2020-08-05 09:36:26</td>\n",
       "      <td>52</td>\n",
       "      <td>65</td>\n",
       "      <td>91.0</td>\n",
       "    </tr>\n",
       "    <tr>\n",
       "      <th>1</th>\n",
       "      <td>2020-08-05 09:36:29</td>\n",
       "      <td>38</td>\n",
       "      <td>148</td>\n",
       "      <td>150.5</td>\n",
       "    </tr>\n",
       "    <tr>\n",
       "      <th>2</th>\n",
       "      <td>2020-08-05 09:36:32</td>\n",
       "      <td>51</td>\n",
       "      <td>113</td>\n",
       "      <td>135.5</td>\n",
       "    </tr>\n",
       "  </tbody>\n",
       "</table>\n",
       "</div>"
      ],
      "text/plain": [
       "             timestamp  MIN  MAX    AVG\n",
       "0  2020-08-05 09:36:26   52   65   91.0\n",
       "1  2020-08-05 09:36:29   38  148  150.5\n",
       "2  2020-08-05 09:36:32   51  113  135.5"
      ]
     },
     "execution_count": 45,
     "metadata": {},
     "output_type": "execute_result"
    }
   ],
   "source": [
    "csv_file"
   ]
  },
  {
   "cell_type": "code",
   "execution_count": null,
   "metadata": {
    "collapsed": true
   },
   "outputs": [],
   "source": []
  }
 ],
 "metadata": {
  "kernelspec": {
   "display_name": "Python [conda env:python3]",
   "language": "python",
   "name": "conda-env-python3-py"
  },
  "language_info": {
   "codemirror_mode": {
    "name": "ipython",
    "version": 3
   },
   "file_extension": ".py",
   "mimetype": "text/x-python",
   "name": "python",
   "nbconvert_exporter": "python",
   "pygments_lexer": "ipython3",
   "version": "3.5.3"
  }
 },
 "nbformat": 4,
 "nbformat_minor": 2
}
